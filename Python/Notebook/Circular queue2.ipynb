{
 "cells": [
  {
   "cell_type": "code",
   "execution_count": 11,
   "id": "9b28f34e",
   "metadata": {},
   "outputs": [],
   "source": [
    "class MyCircularQueue():\n",
    "    def __init__(self,num):\n",
    "        self.num = num\n",
    "        self.queue = [None]*num\n",
    "        self.tail = self.head = -1\n",
    "    def enqueue(self,item):\n",
    "        if((self.tail+1)%self.num == self.head):\n",
    "            print(\"The Queue has been filled complitly\")\n",
    "        elif(self.head == -1):\n",
    "            self.head = 0\n",
    "            self.tail = 0\n",
    "            self.queue[self.tail] = item\n",
    "        else:\n",
    "            self.tail = (self.tail+1) % self.num\n",
    "            self.queue[self.tail] = item\n",
    "    def dequeue(self):\n",
    "        if(self.head == -1):\n",
    "            print(\"Queue is already empty\")\n",
    "            \n",
    "        elif(self.tail == self.head):\n",
    "            temp = self.queue[self.head]\n",
    "            self.head = -1\n",
    "            self.tail = -1\n",
    "            return temp\n",
    "        else:\n",
    "            temp = self.queue[self.head]\n",
    "            self.head = (self.head+1)%self.num\n",
    "            return temp\n",
    "        \n",
    "    def display(self):\n",
    "        if(self.head == -1):\n",
    "            print(\"Queue has been empty already\")\n",
    "        elif(self.tail>=self.head):\n",
    "            for i in range(self.head,self.tail+1):\n",
    "                print(self.queue[i],end = \" \")\n",
    "        else:\n",
    "            for i in range(self.head,self.k):\n",
    "                print(self.queue[i],end = \" \")\n",
    "            for i in range (0,self.tail+1):\n",
    "                print(self.queue[i],end = \" \")\n",
    "                \n",
    "    def size(self):\n",
    "        return len(self.queue)\n",
    "    "
   ]
  },
  {
   "cell_type": "code",
   "execution_count": 12,
   "id": "372d10a5",
   "metadata": {},
   "outputs": [],
   "source": [
    "q = MyCircularQueue(5)"
   ]
  },
  {
   "cell_type": "code",
   "execution_count": 17,
   "id": "4c134a52",
   "metadata": {},
   "outputs": [
    {
     "data": {
      "text/plain": [
       "<__main__.MyCircularQueue at 0x282b81b4d00>"
      ]
     },
     "execution_count": 17,
     "metadata": {},
     "output_type": "execute_result"
    }
   ],
   "source": [
    "q.enqueue(23)\n",
    "q"
   ]
  },
  {
   "cell_type": "code",
   "execution_count": 23,
   "id": "8eb7fd7e",
   "metadata": {},
   "outputs": [
    {
     "name": "stdout",
     "output_type": "stream",
     "text": [
      "4 23 "
     ]
    }
   ],
   "source": [
    "q.display()"
   ]
  },
  {
   "cell_type": "code",
   "execution_count": 22,
   "id": "8fc3894a",
   "metadata": {},
   "outputs": [
    {
     "data": {
      "text/plain": [
       "5"
      ]
     },
     "execution_count": 22,
     "metadata": {},
     "output_type": "execute_result"
    }
   ],
   "source": [
    "q.dequeue()"
   ]
  },
  {
   "cell_type": "code",
   "execution_count": null,
   "id": "66f6f943",
   "metadata": {},
   "outputs": [],
   "source": []
  }
 ],
 "metadata": {
  "kernelspec": {
   "display_name": "Python 3 (ipykernel)",
   "language": "python",
   "name": "python3"
  },
  "language_info": {
   "codemirror_mode": {
    "name": "ipython",
    "version": 3
   },
   "file_extension": ".py",
   "mimetype": "text/x-python",
   "name": "python",
   "nbconvert_exporter": "python",
   "pygments_lexer": "ipython3",
   "version": "3.9.7"
  }
 },
 "nbformat": 4,
 "nbformat_minor": 5
}

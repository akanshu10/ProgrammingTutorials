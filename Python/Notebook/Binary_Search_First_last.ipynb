{
 "cells": [
  {
   "cell_type": "markdown",
   "id": "67211b14",
   "metadata": {},
   "source": [
    "# Array is in ascending order"
   ]
  },
  {
   "cell_type": "code",
   "execution_count": 36,
   "id": "88bcca1a",
   "metadata": {},
   "outputs": [],
   "source": [
    "def first_position(cards,query):\n",
    "    def condition(mid):\n",
    "        mid_element = cards[mid]\n",
    "        if(mid_element == query):\n",
    "            if(mid > 0 and cards[mid-1]==query):\n",
    "                return 'left'\n",
    "            return 'found'\n",
    "        elif(cards[mid] < query):\n",
    "            return 'right'\n",
    "        elif(cards[mid] > query):\n",
    "            return 'left'\n",
    "    return binary_search(0,len(cards)-1,condition)\n",
    "\n",
    "def last_position(cards,query):\n",
    "    def condition(mid):\n",
    "        mid_element = cards[mid]\n",
    "        if(mid_element == query):\n",
    "            if(mid < len(cards)-1 and cards[mid+1]==query):\n",
    "                return 'right'\n",
    "            return 'found'\n",
    "        elif(mid_element < query):\n",
    "            return 'right'\n",
    "        elif(mid_element > query):\n",
    "            return 'left'\n",
    "    return binary_search(0,len(cards)-1,condition)\n",
    "\n",
    "def binary_search(low,high,condition):\n",
    "    while(low<=high):\n",
    "        mid = (low+high)//2\n",
    "        result = condition(mid)\n",
    "        if(result == 'found'):\n",
    "            return mid\n",
    "        elif(result == 'left'):\n",
    "            high = mid-1\n",
    "        elif(result == 'right'):\n",
    "            low = mid+1\n",
    "    return -1\n",
    "def first_last_position(cards,query):\n",
    "    return first_position(cards,query),last_position(cards,query)\n"
   ]
  },
  {
   "cell_type": "code",
   "execution_count": 39,
   "id": "2d3b3d4a",
   "metadata": {},
   "outputs": [],
   "source": [
    "cards = [11,10,9,8,8,8,8,8,3,2,1]\n",
    "cards.sort()\n",
    "query=8\n",
    "\n",
    "first,last = first_last_position(cards,query)"
   ]
  },
  {
   "cell_type": "code",
   "execution_count": 40,
   "id": "a0dce6b3",
   "metadata": {},
   "outputs": [
    {
     "name": "stdout",
     "output_type": "stream",
     "text": [
      "3 7\n"
     ]
    }
   ],
   "source": [
    "print(first,last)"
   ]
  },
  {
   "cell_type": "code",
   "execution_count": null,
   "id": "7dff2976",
   "metadata": {},
   "outputs": [],
   "source": []
  }
 ],
 "metadata": {
  "kernelspec": {
   "display_name": "Python 3 (ipykernel)",
   "language": "python",
   "name": "python3"
  },
  "language_info": {
   "codemirror_mode": {
    "name": "ipython",
    "version": 3
   },
   "file_extension": ".py",
   "mimetype": "text/x-python",
   "name": "python",
   "nbconvert_exporter": "python",
   "pygments_lexer": "ipython3",
   "version": "3.9.7"
  }
 },
 "nbformat": 4,
 "nbformat_minor": 5
}

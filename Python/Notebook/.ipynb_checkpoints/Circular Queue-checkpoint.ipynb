{
 "cells": [
  {
   "cell_type": "code",
   "execution_count": 117,
   "id": "0e5e5549",
   "metadata": {},
   "outputs": [],
   "source": [
    "class MycircularQueue():\n",
    "    def __init__(self,k):\n",
    "        self.k = k\n",
    "        self.queue = [None]*k\n",
    "        self.head = self.tail = -1\n",
    "    def enqueue(self,item):\n",
    "        if((self.tail+1)%self.k == self.head):\n",
    "            print(\"Queue is full \")\n",
    "        elif(self.head == -1):\n",
    "            self.head = 0\n",
    "            self.tail = 0\n",
    "            self.queue[self.tail]=item\n",
    "        else:\n",
    "            self.tail = (self.tail+1)%self.k\n",
    "            self.queue[self.tail] = item\n",
    "    def dequeue(self):\n",
    "        if(self.head == -1):\n",
    "            print(\"The circular queue is empty\")\n",
    "        elif(self.head == self.tail):\n",
    "            temp = self.queue[self.head]\n",
    "            self.tail = -1\n",
    "            self.head =-1\n",
    "            return temp\n",
    "        else:\n",
    "            temp = self.queue[self.head]\n",
    "            self.head = (self.head + 1) % self.k\n",
    "            return temp\n",
    "        \n",
    "    def display(self):\n",
    "        if(self.head ==-1):\n",
    "            print(\"no element found in queue\")\n",
    "        elif(self.head <= self.tail):\n",
    "            for i in range (self.head,self.tail+1):\n",
    "                print(self.queue[i],end = \" \")\n",
    "        else:\n",
    "            for i in range(self.head,self.k):\n",
    "                print(self.queue[i],end = \" \")\n",
    "            for i in range (0,self.tail+1):\n",
    "                print(self.queue[i],end = \" \")\n",
    "                \n",
    "    def size(self):\n",
    "        return len(self.queue)\n",
    "    "
   ]
  },
  {
   "cell_type": "code",
   "execution_count": 118,
   "id": "0d86a8c2",
   "metadata": {},
   "outputs": [],
   "source": [
    "q = MycircularQueue(5)"
   ]
  },
  {
   "cell_type": "code",
   "execution_count": 126,
   "id": "0cf312ed",
   "metadata": {},
   "outputs": [
    {
     "name": "stdout",
     "output_type": "stream",
     "text": [
      "Queue is full \n"
     ]
    }
   ],
   "source": [
    "q.enqueue(6)"
   ]
  },
  {
   "cell_type": "code",
   "execution_count": 80,
   "id": "dd234e78",
   "metadata": {},
   "outputs": [
    {
     "data": {
      "text/plain": [
       "<__main__.MycircularQueue at 0x1c5408f3490>"
      ]
     },
     "execution_count": 80,
     "metadata": {},
     "output_type": "execute_result"
    }
   ],
   "source": [
    "q"
   ]
  },
  {
   "cell_type": "code",
   "execution_count": 125,
   "id": "28ec938e",
   "metadata": {},
   "outputs": [
    {
     "name": "stdout",
     "output_type": "stream",
     "text": [
      "5 5 5 5 5 "
     ]
    }
   ],
   "source": [
    "q.display()"
   ]
  },
  {
   "cell_type": "code",
   "execution_count": 66,
   "id": "048d219f",
   "metadata": {},
   "outputs": [
    {
     "data": {
      "text/plain": [
       "5"
      ]
     },
     "execution_count": 66,
     "metadata": {},
     "output_type": "execute_result"
    }
   ],
   "source": [
    "q.size()"
   ]
  },
  {
   "cell_type": "code",
   "execution_count": 127,
   "id": "3ffe339f",
   "metadata": {},
   "outputs": [
    {
     "data": {
      "text/plain": [
       "5"
      ]
     },
     "execution_count": 127,
     "metadata": {},
     "output_type": "execute_result"
    }
   ],
   "source": [
    "q.dequeue()"
   ]
  },
  {
   "cell_type": "code",
   "execution_count": 113,
   "id": "60c6eac7",
   "metadata": {},
   "outputs": [
    {
     "data": {
      "text/plain": [
       "[1, 1, 1, 1]"
      ]
     },
     "execution_count": 113,
     "metadata": {},
     "output_type": "execute_result"
    }
   ],
   "source": []
  }
 ],
 "metadata": {
  "kernelspec": {
   "display_name": "Python 3 (ipykernel)",
   "language": "python",
   "name": "python3"
  },
  "language_info": {
   "codemirror_mode": {
    "name": "ipython",
    "version": 3
   },
   "file_extension": ".py",
   "mimetype": "text/x-python",
   "name": "python",
   "nbconvert_exporter": "python",
   "pygments_lexer": "ipython3",
   "version": "3.9.7"
  }
 },
 "nbformat": 4,
 "nbformat_minor": 5
}

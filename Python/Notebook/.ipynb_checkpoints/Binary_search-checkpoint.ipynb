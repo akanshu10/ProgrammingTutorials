{
 "cells": [
  {
   "cell_type": "code",
   "execution_count": 77,
   "id": "3e63c7f8",
   "metadata": {},
   "outputs": [],
   "source": [
    "from jovian.pythondsa import evaluate_test_case,evaluate_test_cases\n",
    "import sys\n",
    "import os\n",
    "module_path = os.path.abspath(os.path.join('C:/Users/akans/ProgrammingTutorials/Python'))\n",
    "if module_path not in sys.path:\n",
    "    sys.path.append(module_path)"
   ]
  },
  {
   "cell_type": "code",
   "execution_count": 79,
   "id": "b776475d",
   "metadata": {},
   "outputs": [],
   "source": [
    "import import_ipynb\n",
    "import Linear_search"
   ]
  },
  {
   "cell_type": "code",
   "execution_count": 61,
   "id": "5c85abc7",
   "metadata": {},
   "outputs": [
    {
     "ename": "AttributeError",
     "evalue": "module 'Notebook' has no attribute 'locate_card'",
     "output_type": "error",
     "traceback": [
      "\u001b[1;31m---------------------------------------------------------------------------\u001b[0m",
      "\u001b[1;31mAttributeError\u001b[0m                            Traceback (most recent call last)",
      "\u001b[1;32m~\\AppData\\Local\\Temp/ipykernel_6360/224404417.py\u001b[0m in \u001b[0;36m<module>\u001b[1;34m\u001b[0m\n\u001b[0;32m      1\u001b[0m \u001b[1;32mimport\u001b[0m \u001b[0mNotebook\u001b[0m\u001b[1;33m\u001b[0m\u001b[1;33m\u001b[0m\u001b[0m\n\u001b[0;32m      2\u001b[0m \u001b[1;33m\u001b[0m\u001b[0m\n\u001b[1;32m----> 3\u001b[1;33m \u001b[0mNotebook\u001b[0m\u001b[1;33m.\u001b[0m\u001b[0mlocate_card\u001b[0m\u001b[1;33m(\u001b[0m\u001b[1;33m)\u001b[0m\u001b[1;33m\u001b[0m\u001b[1;33m\u001b[0m\u001b[0m\n\u001b[0m",
      "\u001b[1;31mAttributeError\u001b[0m: module 'Notebook' has no attribute 'locate_card'"
     ]
    }
   ],
   "source": []
  },
  {
   "cell_type": "code",
   "execution_count": 62,
   "id": "4f28881d",
   "metadata": {},
   "outputs": [
    {
     "name": "stdout",
     "output_type": "stream",
     "text": [
      "Collecting import-ipynb\n",
      "  Downloading import-ipynb-0.1.3.tar.gz (4.0 kB)\n",
      "Building wheels for collected packages: import-ipynb\n",
      "  Building wheel for import-ipynb (setup.py): started\n",
      "  Building wheel for import-ipynb (setup.py): finished with status 'done'\n",
      "  Created wheel for import-ipynb: filename=import_ipynb-0.1.3-py3-none-any.whl size=2975 sha256=8cafbca4681afb14f7e0c46755b2bb2a2e2e86705e8082a0edffe21e282e97f3\n",
      "  Stored in directory: c:\\users\\akans\\appdata\\local\\pip\\cache\\wheels\\14\\d1\\f8\\04883e42b40c1d3d24cb6579b16c63d4735bb1c8b82c5d29e3\n",
      "Successfully built import-ipynb\n",
      "Installing collected packages: import-ipynb\n",
      "Successfully installed import-ipynb-0.1.3\n"
     ]
    }
   ],
   "source": [
    "!pip install import-ipynb"
   ]
  },
  {
   "cell_type": "code",
   "execution_count": 80,
   "id": "6ddaaa2e",
   "metadata": {},
   "outputs": [],
   "source": [
    "import jovian"
   ]
  },
  {
   "cell_type": "code",
   "execution_count": 96,
   "id": "bd566ce2",
   "metadata": {},
   "outputs": [],
   "source": [
    "def locate_card(cards,query):\n",
    "    low =0 \n",
    "    high = len(cards)-1\n",
    "    \n",
    "    while(low<=high):\n",
    "        mid = (low + high)//2\n",
    "        result = test_location(cards,query,mid)\n",
    "        mid_number = cards[mid]\n",
    "        if(result =='found'):\n",
    "            return mid\n",
    "        elif(result =='left'):\n",
    "            high = mid-1\n",
    "        elif(result == 'right'):\n",
    "            low = mid+1\n",
    "#         if(mid_number == query):\n",
    "#             return mid\n",
    "#         elif(mid_number > query):\n",
    "#             low = mid+1\n",
    "#         elif(mid_number < query):\n",
    "#             high = mid-1\n",
    "    return -1"
   ]
  },
  {
   "cell_type": "code",
   "execution_count": 83,
   "id": "3d0f6a76",
   "metadata": {},
   "outputs": [
    {
     "data": {
      "text/plain": [
       "[{'input': {'cards': [13, 11, 10, 7, 4, 3, 1, 0], 'query': 7}, 'output': 3},\n",
       " {'input': {'cards': [13, 11, 10, 7, 4, 3, 1, 0], 'query': 1}, 'output': 6},\n",
       " {'input': {'cards': [4, -1, 0, 1], 'query': 4}, 'output': 0},\n",
       " {'input': {'cards': [1, 2, 5, 6, 7], 'query': 5}, 'output': 2},\n",
       " {'input': {'cards': [45, 3, 67, 5, 44, 87], 'query': 67}, 'output': 2},\n",
       " {'input': {'cards': [11, 4, 65, 7, 8], 'query': 3}, 'output': -1},\n",
       " {'input': {'cards': [], 'query': 5}, 'output': -1},\n",
       " {'input': {'cards': [1, 2, 3, 4, 4, 4, 4, 5, 6, 7, 8], 'query': 5},\n",
       "  'output': 7},\n",
       " {'input': {'cards': [1, 3, 4, 5, 5, 5, 5, 5, 6, 7], 'query': 5}, 'output': 3}]"
      ]
     },
     "execution_count": 83,
     "metadata": {},
     "output_type": "execute_result"
    }
   ],
   "source": [
    "Linear_search.tests"
   ]
  },
  {
   "cell_type": "code",
   "execution_count": 97,
   "id": "52c3a96c",
   "metadata": {},
   "outputs": [
    {
     "name": "stdout",
     "output_type": "stream",
     "text": [
      "\n",
      "\u001b[1mTEST CASE #0\u001b[0m\n",
      "\n",
      "Input:\n",
      "{'cards': [13, 11, 10, 7, 4, 3, 1, 0], 'query': 7}\n",
      "\n",
      "Expected Output:\n",
      "3\n",
      "\n",
      "\n",
      "Actual Output:\n",
      "3\n",
      "\n",
      "Execution Time:\n",
      "0.011 ms\n",
      "\n",
      "Test Result:\n",
      "\u001b[92mPASSED\u001b[0m\n",
      "\n",
      "\n",
      "\u001b[1mTEST CASE #1\u001b[0m\n",
      "\n",
      "Input:\n",
      "{'cards': [13, 11, 10, 7, 4, 3, 1, 0], 'query': 1}\n",
      "\n",
      "Expected Output:\n",
      "6\n",
      "\n",
      "\n",
      "Actual Output:\n",
      "-1\n",
      "\n",
      "Execution Time:\n",
      "0.013 ms\n",
      "\n",
      "Test Result:\n",
      "\u001b[91mFAILED\u001b[0m\n",
      "\n",
      "\n",
      "\u001b[1mTEST CASE #2\u001b[0m\n",
      "\n",
      "Input:\n",
      "{'cards': [4, -1, 0, 1], 'query': 4}\n",
      "\n",
      "Expected Output:\n",
      "0\n",
      "\n",
      "\n",
      "Actual Output:\n",
      "-1\n",
      "\n",
      "Execution Time:\n",
      "0.016 ms\n",
      "\n",
      "Test Result:\n",
      "\u001b[91mFAILED\u001b[0m\n",
      "\n",
      "\n",
      "\u001b[1mTEST CASE #3\u001b[0m\n",
      "\n",
      "Input:\n",
      "{'cards': [1, 2, 5, 6, 7], 'query': 5}\n",
      "\n",
      "Expected Output:\n",
      "2\n",
      "\n",
      "\n",
      "Actual Output:\n",
      "2\n",
      "\n",
      "Execution Time:\n",
      "0.009 ms\n",
      "\n",
      "Test Result:\n",
      "\u001b[92mPASSED\u001b[0m\n",
      "\n",
      "\n",
      "\u001b[1mTEST CASE #4\u001b[0m\n",
      "\n",
      "Input:\n",
      "{'cards': [45, 3, 67, 5, 44, 87], 'query': 67}\n",
      "\n",
      "Expected Output:\n",
      "2\n",
      "\n",
      "\n",
      "Actual Output:\n",
      "2\n",
      "\n",
      "Execution Time:\n",
      "0.008 ms\n",
      "\n",
      "Test Result:\n",
      "\u001b[92mPASSED\u001b[0m\n",
      "\n",
      "\n",
      "\u001b[1mTEST CASE #5\u001b[0m\n",
      "\n",
      "Input:\n",
      "{'cards': [11, 4, 65, 7, 8], 'query': 3}\n",
      "\n",
      "Expected Output:\n",
      "-1\n",
      "\n",
      "\n",
      "Actual Output:\n",
      "-1\n",
      "\n",
      "Execution Time:\n",
      "0.014 ms\n",
      "\n",
      "Test Result:\n",
      "\u001b[92mPASSED\u001b[0m\n",
      "\n",
      "\n",
      "\u001b[1mTEST CASE #6\u001b[0m\n",
      "\n",
      "Input:\n",
      "{'cards': [], 'query': 5}\n",
      "\n",
      "Expected Output:\n",
      "-1\n",
      "\n",
      "\n",
      "Actual Output:\n",
      "-1\n",
      "\n",
      "Execution Time:\n",
      "0.009 ms\n",
      "\n",
      "Test Result:\n",
      "\u001b[92mPASSED\u001b[0m\n",
      "\n",
      "\n",
      "\u001b[1mTEST CASE #7\u001b[0m\n",
      "\n",
      "Input:\n",
      "{'cards': [1, 2, 3, 4, 4, 4, 4, 5, 6, 7, 8], 'query': 5}\n",
      "\n",
      "Expected Output:\n",
      "7\n",
      "\n",
      "\n",
      "Actual Output:\n",
      "7\n",
      "\n",
      "Execution Time:\n",
      "0.015 ms\n",
      "\n",
      "Test Result:\n",
      "\u001b[92mPASSED\u001b[0m\n",
      "\n",
      "\n",
      "\u001b[1mTEST CASE #8\u001b[0m\n",
      "\n",
      "Input:\n",
      "{'cards': [1, 3, 4, 5, 5, 5, 5, 5, 6, 7], 'query': 5}\n",
      "\n",
      "Expected Output:\n",
      "3\n",
      "\n",
      "\n",
      "Actual Output:\n",
      "7\n",
      "\n",
      "Execution Time:\n",
      "0.01 ms\n",
      "\n",
      "Test Result:\n",
      "\u001b[91mFAILED\u001b[0m\n",
      "\n",
      "\n",
      "\u001b[1mSUMMARY\u001b[0m\n",
      "\n",
      "TOTAL: 9, \u001b[92mPASSED\u001b[0m: 6, \u001b[91mFAILED\u001b[0m: 3\n"
     ]
    },
    {
     "data": {
      "text/plain": [
       "[(3, True, 0.011),\n",
       " (-1, False, 0.013),\n",
       " (-1, False, 0.016),\n",
       " (2, True, 0.009),\n",
       " (2, True, 0.008),\n",
       " (-1, True, 0.014),\n",
       " (-1, True, 0.009),\n",
       " (7, True, 0.015),\n",
       " (7, False, 0.01)]"
      ]
     },
     "execution_count": 97,
     "metadata": {},
     "output_type": "execute_result"
    }
   ],
   "source": [
    "evaluate_test_cases(locate_card,Linear_search.tests)"
   ]
  },
  {
   "cell_type": "code",
   "execution_count": 135,
   "id": "e25459de",
   "metadata": {},
   "outputs": [],
   "source": [
    "large_test={\n",
    "    'input':{\n",
    "        'cards':list(range(0,10000000,1)),\n",
    "        'query':1\n",
    "    },\n",
    "    'output':1\n",
    "}"
   ]
  },
  {
   "cell_type": "code",
   "execution_count": 136,
   "id": "9050257e",
   "metadata": {},
   "outputs": [
    {
     "name": "stdout",
     "output_type": "stream",
     "text": [
      "result = 1\n",
      " passed = True\n",
      " runtime = 0.006 ms\n"
     ]
    }
   ],
   "source": [
    "result , passed,runtime = evaluate_test_case(Linear_search.locate_card,large_test,display = False)\n",
    "print(\"result = {}\\n passed = {}\\n runtime = {} ms\".format(result ,passed ,runtime))"
   ]
  },
  {
   "cell_type": "code",
   "execution_count": 138,
   "id": "3c0e1eb9",
   "metadata": {},
   "outputs": [
    {
     "name": "stdout",
     "output_type": "stream",
     "text": [
      "result = 1 \n",
      "passed = True \n",
      " runtime = 0.032 ms\n"
     ]
    }
   ],
   "source": [
    "result, passed,runtime = evaluate_test_case(locate_card,large_test,display = False)\n",
    "print(\"result = {} \\npassed = {} \\n runtime = {} ms\".format(result, passed,runtime))"
   ]
  },
  {
   "cell_type": "code",
   "execution_count": null,
   "id": "9114eb0d",
   "metadata": {},
   "outputs": [
    {
     "data": {
      "application/javascript": [
       "window.require && require([\"base/js/namespace\"],function(Jupyter){Jupyter.notebook.save_checkpoint()})"
      ],
      "text/plain": [
       "<IPython.core.display.Javascript object>"
      ]
     },
     "metadata": {},
     "output_type": "display_data"
    }
   ],
   "source": [
    "jovian.commit(project='Binary-Search')"
   ]
  },
  {
   "cell_type": "code",
   "execution_count": null,
   "id": "ea87f616",
   "metadata": {},
   "outputs": [],
   "source": []
  },
  {
   "cell_type": "code",
   "execution_count": 95,
   "id": "7ffb15d6",
   "metadata": {},
   "outputs": [],
   "source": [
    "def test_location(cards,query,mid):\n",
    "    mid_number = cards[mid]\n",
    "    if(mid_number == query):\n",
    "        if(mid+1)<=len(cards) and cards[mid+1]==query:\n",
    "            return 'right'\n",
    "        else:\n",
    "            return 'found'\n",
    "    elif(mid_number <query):\n",
    "        return 'right'\n",
    "    elif(mid_number > query):\n",
    "        return 'left'\n",
    "    "
   ]
  },
  {
   "cell_type": "code",
   "execution_count": null,
   "id": "0327beea",
   "metadata": {},
   "outputs": [],
   "source": []
  }
 ],
 "metadata": {
  "kernelspec": {
   "display_name": "Python 3 (ipykernel)",
   "language": "python",
   "name": "python3"
  },
  "language_info": {
   "codemirror_mode": {
    "name": "ipython",
    "version": 3
   },
   "file_extension": ".py",
   "mimetype": "text/x-python",
   "name": "python",
   "nbconvert_exporter": "python",
   "pygments_lexer": "ipython3",
   "version": "3.9.7"
  }
 },
 "nbformat": 4,
 "nbformat_minor": 5
}

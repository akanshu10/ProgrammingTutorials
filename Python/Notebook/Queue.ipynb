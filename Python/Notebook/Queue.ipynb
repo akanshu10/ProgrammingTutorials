{
 "cells": [
  {
   "cell_type": "code",
   "execution_count": 19,
   "id": "84ec7fb0",
   "metadata": {},
   "outputs": [],
   "source": [
    "class Queue:\n",
    "    def __init__(self):\n",
    "        self.queue = []\n",
    "    def enqueue(self,item):\n",
    "        self.queue.append(item)\n",
    "    def dequeue(self):\n",
    "        if(len(self.queue)<1):\n",
    "            print(\"Queue has been empty\")\n",
    "        else:\n",
    "            return self.queue.pop(0)\n",
    "    def display(self):\n",
    "        print(self.queue)\n",
    "        \n",
    "    def size(self):\n",
    "        print(len(self.queue))\n",
    "q = Queue()\n",
    "q.enqueue(1)\n",
    "q.enqueue(2)\n",
    "q.enqueue(3)\n",
    "q.enqueue(4)\n",
    "q.enqueue(5)\n",
    "\n"
   ]
  },
  {
   "cell_type": "code",
   "execution_count": 2,
   "id": "a786caec",
   "metadata": {},
   "outputs": [
    {
     "name": "stdout",
     "output_type": "stream",
     "text": [
      "[1, 2, 3, 4, 5]\n"
     ]
    }
   ],
   "source": [
    "q.display()"
   ]
  }
 ],
 "metadata": {
  "kernelspec": {
   "display_name": "Python 3 (ipykernel)",
   "language": "python",
   "name": "python3"
  },
  "language_info": {
   "codemirror_mode": {
    "name": "ipython",
    "version": 3
   },
   "file_extension": ".py",
   "mimetype": "text/x-python",
   "name": "python",
   "nbconvert_exporter": "python",
   "pygments_lexer": "ipython3",
   "version": "3.9.7"
  }
 },
 "nbformat": 4,
 "nbformat_minor": 5
}
